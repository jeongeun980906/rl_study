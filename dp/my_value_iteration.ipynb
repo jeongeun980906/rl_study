{
 "cells": [
  {
   "cell_type": "code",
   "execution_count": 1,
   "metadata": {},
   "outputs": [],
   "source": [
    "from environment_vi import GraphicDisplay, Env"
   ]
  },
  {
   "cell_type": "code",
   "execution_count": 7,
   "metadata": {},
   "outputs": [],
   "source": [
    "class ValueIteration:\n",
    "    def __init__(self,env):\n",
    "        self.env=env\n",
    "        self.value_table = [[0.0] * env.width for _ in range(env.height)]\n",
    "        self.discount_factor=0.9\n",
    "        \n",
    "    def get_value(self,state):\n",
    "        return round(self.value_table[state[0]][state[1]],2)\n",
    "    \n",
    "    def value_iteration(self):\n",
    "        next_value_table=[[0.0]*self.env.width for _ in \n",
    "                         range(self.env.height)]\n",
    "        for state in self.env.get_all_states():\n",
    "            if state==[2,2]:\n",
    "                next_value_table[state[0]][state[1]]=0.0\n",
    "                continue\n",
    "            value_list=[]\n",
    "            #벨만 최적 방정식\n",
    "            for action in self.env.possible_actions:\n",
    "                next_state=self.env.state_after_action(state,action)\n",
    "                reward=self.env.get_reward(state,action)\n",
    "                next_value=self.get_value(next_state)\n",
    "                value_list.append((reward+self.discount_factor*next_value))\n",
    "            #최대값을 다음 가치함수에 대입\n",
    "            next_value_table[state[0]][state[1]]=round(max(value_list),2)\n",
    "        self.value_table=next_value_table\n",
    "    def get_action(self,state):\n",
    "        action_list=[]\n",
    "        max_value=-999\n",
    "        if state==[2,2]:\n",
    "            return []\n",
    "        for action in self.env.possible_actions:\n",
    "            next_state=self.env.state_after_action(state,action)\n",
    "            reward=self.env.get_reward(state,action)\n",
    "            next_value=self.get_value(next_state)\n",
    "            value=reward+self.discount_factor*next_value\n",
    "            #최대 큐함수를 가진 행동\n",
    "            if value>max_value:\n",
    "                action_list.clear()\n",
    "                action_list.append(action)\n",
    "                max_value=value\n",
    "            elif value==max_value:\n",
    "                action_list.append(action)\n",
    "        return action_list"
   ]
  },
  {
   "cell_type": "code",
   "execution_count": 8,
   "metadata": {},
   "outputs": [],
   "source": [
    "env=Env()\n",
    "value_iteration=ValueIteration(env)\n",
    "grid_world=GraphicDisplay(value_iteration)\n",
    "grid_world.mainloop()"
   ]
  },
  {
   "cell_type": "code",
   "execution_count": null,
   "metadata": {},
   "outputs": [],
   "source": []
  }
 ],
 "metadata": {
  "kernelspec": {
   "display_name": "Python 3",
   "language": "python",
   "name": "python3"
  },
  "language_info": {
   "codemirror_mode": {
    "name": "ipython",
    "version": 3
   },
   "file_extension": ".py",
   "mimetype": "text/x-python",
   "name": "python",
   "nbconvert_exporter": "python",
   "pygments_lexer": "ipython3",
   "version": "3.7.4"
  }
 },
 "nbformat": 4,
 "nbformat_minor": 2
}
