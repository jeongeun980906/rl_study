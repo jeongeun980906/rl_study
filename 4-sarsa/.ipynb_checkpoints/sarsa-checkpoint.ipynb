{
 "cells": [
  {
   "cell_type": "code",
   "execution_count": 1,
   "metadata": {},
   "outputs": [],
   "source": [
    "import numpy as np\n",
    "import random\n",
    "from collections import defaultdict\n",
    "from environment import Env"
   ]
  },
  {
   "cell_type": "code",
   "execution_count": 2,
   "metadata": {},
   "outputs": [],
   "source": [
    "class SARSAgent:\n",
    "    def __init__(self, actions):\n",
    "        self.actions = actions\n",
    "        self.learning_rate = 0.01\n",
    "        self.discount_factor = 0.9\n",
    "        self.epsilon = 0.1\n",
    "        self.q_table = defaultdict(lambda: [0.0, 0.0, 0.0, 0.0])\n",
    "\n",
    "    # <s, a, r, s', a'>의 샘플로부터 큐함수를 업데이트\n",
    "    def learn(self, state, action, reward, next_state, next_action):\n",
    "        current_q = self.q_table[state][action]\n",
    "        next_state_q = self.q_table[next_state][next_action]\n",
    "        new_q = (current_q + self.learning_rate *\n",
    "                (reward + self.discount_factor * next_state_q - current_q))\n",
    "        self.q_table[state][action] = new_q\n",
    "\n",
    "    # 입실론 탐욕 정책에 따라서 행동을 반환\n",
    "    def get_action(self, state):\n",
    "        if np.random.rand() < self.epsilon:\n",
    "            # 무작위 행동 반환\n",
    "            action = np.random.choice(self.actions)\n",
    "        else:\n",
    "            # 큐함수에 따른 행동 반환\n",
    "            state_action = self.q_table[state]\n",
    "            action = self.arg_max(state_action)\n",
    "        return action\n",
    "\n",
    "    @staticmethod\n",
    "    def arg_max(state_action):\n",
    "        max_index_list = []\n",
    "        max_value = state_action[0]\n",
    "        for index, value in enumerate(state_action):\n",
    "            if value > max_value:\n",
    "                max_index_list.clear()\n",
    "                max_value = value\n",
    "                max_index_list.append(index)\n",
    "            elif value == max_value:\n",
    "                max_index_list.append(index)\n",
    "        return random.choice(max_index_list)"
   ]
  },
  {
   "cell_type": "code",
   "execution_count": 3,
   "metadata": {},
   "outputs": [
    {
     "ename": "IndentationError",
     "evalue": "unexpected indent (<ipython-input-3-1c1069c185a5>, line 16)",
     "output_type": "error",
     "traceback": [
      "\u001b[1;36m  File \u001b[1;32m\"<ipython-input-3-1c1069c185a5>\"\u001b[1;36m, line \u001b[1;32m16\u001b[0m\n\u001b[1;33m    next_action = agent.get_action(str(next_state))\u001b[0m\n\u001b[1;37m    ^\u001b[0m\n\u001b[1;31mIndentationError\u001b[0m\u001b[1;31m:\u001b[0m unexpected indent\n"
     ]
    }
   ],
   "source": [
    "env = Env()\n",
    "agent = SARSAgent(actions=list(range(env.n_actions)))\n",
    "\n",
    "for episode in range(1000):\n",
    "        # 게임 환경과 상태를 초기화\n",
    "    state = env.reset()\n",
    "        # 현재 상태에 대한 행동을 선택\n",
    "    action = agent.get_action(str(state))\n",
    "\n",
    "    while True:\n",
    "        env.render()\n",
    "\n",
    "            # 행동을 위한 후 다음상태 보상 에피소드의 종료 여부를 받아옴\n",
    "        next_state, reward, done = env.step(action)\n",
    "            # 다음 상태에서의 다음 행동 선택\n",
    "        next_action = agent.get_action(str(next_state))\n",
    "\n",
    "            # <s,a,r,s',a'>로 큐함수를 업데이트\n",
    "        agent.learn(str(state), action, reward, str(next_state), next_action)\n",
    "\n",
    "        state = next_state\n",
    "        action = next_action\n",
    "\n",
    "            # 모든 큐함수를 화면에 표시\n",
    "        env.print_value_all(agent.q_table)\n",
    "\n",
    "        if done:\n",
    "            break"
   ]
  },
  {
   "cell_type": "code",
   "execution_count": null,
   "metadata": {},
   "outputs": [],
   "source": []
  }
 ],
 "metadata": {
  "kernelspec": {
   "display_name": "Python 3",
   "language": "python",
   "name": "python3"
  },
  "language_info": {
   "codemirror_mode": {
    "name": "ipython",
    "version": 3
   },
   "file_extension": ".py",
   "mimetype": "text/x-python",
   "name": "python",
   "nbconvert_exporter": "python",
   "pygments_lexer": "ipython3",
   "version": "3.7.4"
  }
 },
 "nbformat": 4,
 "nbformat_minor": 2
}
