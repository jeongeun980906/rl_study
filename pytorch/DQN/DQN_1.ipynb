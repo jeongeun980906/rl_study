{
 "cells": [
  {
   "cell_type": "code",
   "execution_count": 1,
   "metadata": {},
   "outputs": [],
   "source": [
    "import gym\n",
    "import numpy as np\n",
    "import torch\n",
    "from torch import nn\n",
    "from torch.autograd import Variable\n",
    "from torch import optim\n",
    "from torch.nn import functional as F"
   ]
  },
  {
   "cell_type": "code",
   "execution_count": 2,
   "metadata": {},
   "outputs": [
    {
     "name": "stderr",
     "output_type": "stream",
     "text": [
      "D:\\anaconda\\lib\\importlib\\_bootstrap.py:219: RuntimeWarning: numpy.ufunc size changed, may indicate binary incompatibility. Expected 192 from C header, got 216 from PyObject\n",
      "  return f(*args, **kwds)\n",
      "D:\\anaconda\\lib\\importlib\\_bootstrap.py:219: RuntimeWarning: numpy.ufunc size changed, may indicate binary incompatibility. Expected 192 from C header, got 216 from PyObject\n",
      "  return f(*args, **kwds)\n",
      "D:\\anaconda\\lib\\importlib\\_bootstrap.py:219: RuntimeWarning: numpy.ufunc size changed, may indicate binary incompatibility. Expected 192 from C header, got 216 from PyObject\n",
      "  return f(*args, **kwds)\n"
     ]
    }
   ],
   "source": [
    "env=gym.make('FrozenLake-v0')"
   ]
  },
  {
   "cell_type": "code",
   "execution_count": 4,
   "metadata": {},
   "outputs": [],
   "source": [
    "class Net(nn.Module):\n",
    "    def __init__(self):\n",
    "        super(Net,self).__init__()\n",
    "        self.fc1=nn.Linear(16,64)\n",
    "        self.fc2=nn.Linear(64,64)\n",
    "        self.fc3=nn.Linear(64,96)\n",
    "        self.fc4=nn.Linear(96,96)\n",
    "        self.fc5=nn.Linear(96,64)\n",
    "        self.fc6=nn.Linear(64,64)\n",
    "        self.fc7=nn.Linear(64,4)\n",
    "    def forward(self,x):\n",
    "        x=Variable(x)\n",
    "        x=F.relu(self.fc1(x))\n",
    "        x=F.relu(self.fc2(x))\n",
    "        x=F.relu(self.fc3(x))\n",
    "        x=F.relu(self.fc4(x))\n",
    "        x=F.relu(self.fc5(x))\n",
    "        x=F.relu(self.fc6(x))\n",
    "        x=self.fc7(x)\n",
    "        return x\n",
    "model=Net()"
   ]
  },
  {
   "cell_type": "code",
   "execution_count": 5,
   "metadata": {},
   "outputs": [],
   "source": [
    "def onehot2tensor(state):\n",
    "    tmp=np.zeros(16)\n",
    "    tmp[state]=1\n",
    "    vector=np.array(tmp,dtype='float32')\n",
    "    tensor=torch.from_numpy(vector).float()\n",
    "    return tensor\n",
    "\n",
    "def applymodel(tensor):\n",
    "    output_tensor=model(tensor)\n",
    "    output_array=output_tensor.data.numpy()\n",
    "    return output_tensor,output_array"
   ]
  },
  {
   "cell_type": "code",
   "execution_count": 6,
   "metadata": {},
   "outputs": [],
   "source": [
    "total_reward=0.0\n",
    "criterion=nn.MSELoss()\n",
    "optimizer=optim.Adam(model.parameters(),lr=0.01)"
   ]
  },
  {
   "cell_type": "code",
   "execution_count": 11,
   "metadata": {},
   "outputs": [
    {
     "name": "stdout",
     "output_type": "stream",
     "text": [
      "100 1.169472501505453e-05 4.0\n",
      "200 1.1130832795364976e-25 4.0\n",
      "300 2.75308558517853e-23 4.0\n",
      "400 1.5092777934988533e-05 8.0\n",
      "500 8.71338798980048e-06 9.0\n",
      "600 1.1366358558301173e-11 12.0\n",
      "700 3.022720612891921e-11 14.0\n",
      "800 2.0730112055389327e-05 18.0\n",
      "900 5.054880649037278e-09 20.0\n",
      "1000 7.936006698335805e-10 21.0\n"
     ]
    }
   ],
   "source": [
    "for i_episode in range(1000):\n",
    "    observation=env.reset()\n",
    "    episode_reward=0.0\n",
    "    total_loss=0.0\n",
    "    for t in range(100):\n",
    "        #env.render()\n",
    "        current_state=observation\n",
    "        optimizer.zero_grad()\n",
    "        current_tensor=onehot2tensor(current_state)\n",
    "        current_output_tensor,current_output_array=applymodel(current_tensor)\n",
    "        if np.random.rand()<0.1:\n",
    "            action=env.action_space.sample()\n",
    "        else:\n",
    "            action=np.argmax(current_output_array)\n",
    "        \n",
    "        observation,reward,done,info=env.step(action)\n",
    "        observation_tensor=onehot2tensor(observation)\n",
    "        observation_output_tensor,observation_output_array=applymodel(observation_tensor)\n",
    "        \n",
    "        q=reward+0.99*np.max(observation_output_array)\n",
    "        q_array=np.copy(current_output_array)\n",
    "        q_array[action]=q\n",
    "        q_variable=Variable(torch.Tensor(q_array))\n",
    "        \n",
    "        loss=criterion(current_output_tensor,q_variable)\n",
    "        loss.backward()\n",
    "        optimizer.step()\n",
    "        total_loss+=loss.item()\n",
    "        \n",
    "        if done:\n",
    "            episode_reward+=reward\n",
    "    total_reward+=episode_reward\n",
    "    \n",
    "    if (i_episode+1)%100==0:\n",
    "        print(i_episode+1,total_loss,total_reward)"
   ]
  },
  {
   "cell_type": "code",
   "execution_count": null,
   "metadata": {},
   "outputs": [],
   "source": []
  }
 ],
 "metadata": {
  "kernelspec": {
   "display_name": "Python 3",
   "language": "python",
   "name": "python3"
  },
  "language_info": {
   "codemirror_mode": {
    "name": "ipython",
    "version": 3
   },
   "file_extension": ".py",
   "mimetype": "text/x-python",
   "name": "python",
   "nbconvert_exporter": "python",
   "pygments_lexer": "ipython3",
   "version": "3.7.4"
  }
 },
 "nbformat": 4,
 "nbformat_minor": 4
}
