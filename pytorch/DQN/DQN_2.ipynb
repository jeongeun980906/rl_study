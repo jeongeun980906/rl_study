{
 "cells": [
  {
   "cell_type": "code",
   "execution_count": 1,
   "metadata": {},
   "outputs": [],
   "source": [
    "import gym\n",
    "import collections \n",
    "import random\n",
    "\n",
    "import torch\n",
    "import torch.nn as nn\n",
    "import torch.nn.functional as F\n",
    "import torch.optim as optim"
   ]
  },
  {
   "cell_type": "code",
   "execution_count": 2,
   "metadata": {},
   "outputs": [],
   "source": [
    "learning_rate=0.0005\n",
    "gamma=0.98\n",
    "buffer_limit=5000\n",
    "batch_size=32"
   ]
  },
  {
   "cell_type": "code",
   "execution_count": 3,
   "metadata": {},
   "outputs": [],
   "source": [
    "class ReplayBuffer():\n",
    "    def __init__(self):\n",
    "        self.buffer=collections.deque(maxlen=buffer_limit)\n",
    "    \n",
    "    def put(self,transition):\n",
    "        self.buffer.append(transition)\n",
    "    \n",
    "    def sample(self,n):\n",
    "        mini_batch=random.sample(self.buffer,n)\n",
    "        s_lst, a_lst, r_lst,s_prime_lst,done_mask_lst=[],[],[],[],[]\n",
    "        for transition in mini_batch:\n",
    "            s,a,r,s_prime,done_mask=transition\n",
    "            s_lst.append(s)\n",
    "            a_lst.append([a])\n",
    "            r_lst.append([r])\n",
    "            s_prime_lst.append(s_prime)\n",
    "            done_mask_lst.append([done_mask])\n",
    "        return torch.tensor(s_lst,dtype=torch.float),torch.tensor(a_lst),\\\n",
    "    torch.tensor(r_lst),torch.tensor(s_prime_lst,dtype=torch.float),\\\n",
    "    torch.tensor(done_mask_lst)\n",
    "    \n",
    "    def size(self):\n",
    "        return len(self.buffer)"
   ]
  },
  {
   "cell_type": "code",
   "execution_count": 4,
   "metadata": {},
   "outputs": [],
   "source": [
    "class Qnet(nn.Module):\n",
    "    def __init__(self):\n",
    "        super(Qnet,self).__init__()\n",
    "        self.fc1=nn.Linear(4,128)\n",
    "        self.fc2=nn.Linear(128,128)\n",
    "        self.fc3=nn.Linear(128,2)\n",
    "    def forward(self,x):\n",
    "        x=F.relu(self.fc1(x))\n",
    "        x=F.relu(self.fc2(x))\n",
    "        x=self.fc3(x)\n",
    "        return x\n",
    "    def sample_action(self,obs,epsilon):\n",
    "        out=self.forward(obs)\n",
    "        coin=random.random()\n",
    "        if coin<epsilon:\n",
    "            return random.randint(0,1)\n",
    "        else:\n",
    "            return out.argmax().item()"
   ]
  },
  {
   "cell_type": "code",
   "execution_count": 5,
   "metadata": {},
   "outputs": [],
   "source": [
    "def train(q,q_target,memory,optimizer):\n",
    "    for i in range(10):\n",
    "        s,a,r,s_prime,done_mask=memory.sample(batch_size)\n",
    "        q_out=q(s)\n",
    "        q_a=q_out.gather(1,a)\n",
    "        max_q_prime=q_target(s_prime).max(1)[0].unsqueeze(1)\n",
    "        target=r+gamma*max_q_prime*done_mask\n",
    "        loss=F.smooth_l1_loss(q_a,target)\n",
    "        \n",
    "        optimizer.zero_grad()\n",
    "        loss.backward()\n",
    "        optimizer.step()"
   ]
  },
  {
   "cell_type": "code",
   "execution_count": 7,
   "metadata": {},
   "outputs": [
    {
     "name": "stderr",
     "output_type": "stream",
     "text": [
      "c:\\users\\박정은\\gym\\gym\\logger.py:30: UserWarning: \u001b[33mWARN: Box bound precision lowered by casting to float32\u001b[0m\n",
      "  warnings.warn(colorize('%s: %s'%('WARN', msg % args), 'yellow'))\n"
     ]
    },
    {
     "name": "stdout",
     "output_type": "stream",
     "text": [
      "n_episode :20, score : 10.4, n_buffer : 209, eps : 0.1\n",
      "n_episode :40, score : 10.1, n_buffer : 410, eps : 0.1\n",
      "n_episode :60, score : 9.8, n_buffer : 606, eps : 0.1\n",
      "n_episode :80, score : 10.7, n_buffer : 819, eps : 0.0\n",
      "n_episode :100, score : 13.3, n_buffer : 1086, eps : 0.0\n",
      "n_episode :120, score : 18.8, n_buffer : 1462, eps : 0.0\n",
      "n_episode :140, score : 28.9, n_buffer : 2040, eps : 0.0\n",
      "n_episode :160, score : 20.2, n_buffer : 2444, eps : 0.0\n",
      "n_episode :180, score : 13.6, n_buffer : 2715, eps : 0.0\n",
      "n_episode :200, score : 23.4, n_buffer : 3184, eps : 0.0\n",
      "n_episode :220, score : 15.4, n_buffer : 3492, eps : 0.0\n",
      "n_episode :240, score : 156.8, n_buffer : 5000, eps : 0.0\n",
      "n_episode :260, score : 302.0, n_buffer : 5000, eps : 0.0\n",
      "n_episode :280, score : 330.2, n_buffer : 5000, eps : 0.0\n",
      "n_episode :300, score : 281.9, n_buffer : 5000, eps : 0.0\n",
      "n_episode :320, score : 280.9, n_buffer : 5000, eps : 0.0\n",
      "n_episode :340, score : 325.1, n_buffer : 5000, eps : 0.0\n",
      "n_episode :360, score : 329.9, n_buffer : 5000, eps : 0.0\n",
      "n_episode :380, score : 288.6, n_buffer : 5000, eps : 0.0\n",
      "n_episode :400, score : 303.8, n_buffer : 5000, eps : 0.0\n",
      "n_episode :420, score : 304.6, n_buffer : 5000, eps : 0.0\n",
      "n_episode :440, score : 289.3, n_buffer : 5000, eps : 0.0\n",
      "n_episode :460, score : 251.2, n_buffer : 5000, eps : 0.0\n",
      "n_episode :480, score : 300.5, n_buffer : 5000, eps : 0.0\n",
      "n_episode :500, score : 258.1, n_buffer : 5000, eps : 0.0\n",
      "n_episode :520, score : 267.6, n_buffer : 5000, eps : 0.0\n",
      "n_episode :540, score : 296.6, n_buffer : 5000, eps : 0.0\n",
      "n_episode :560, score : 329.8, n_buffer : 5000, eps : 0.0\n",
      "n_episode :580, score : 278.4, n_buffer : 5000, eps : 0.0\n",
      "n_episode :600, score : 295.2, n_buffer : 5000, eps : 0.0\n",
      "n_episode :620, score : 282.1, n_buffer : 5000, eps : 0.0\n",
      "n_episode :640, score : 277.1, n_buffer : 5000, eps : 0.0\n",
      "n_episode :660, score : 273.2, n_buffer : 5000, eps : 0.0\n",
      "n_episode :680, score : 256.3, n_buffer : 5000, eps : 0.0\n",
      "n_episode :700, score : 272.5, n_buffer : 5000, eps : 0.0\n",
      "n_episode :720, score : 212.6, n_buffer : 5000, eps : 0.0\n",
      "n_episode :740, score : 242.1, n_buffer : 5000, eps : 0.0\n",
      "n_episode :760, score : 260.3, n_buffer : 5000, eps : 0.0\n",
      "n_episode :780, score : 238.7, n_buffer : 5000, eps : 0.0\n",
      "n_episode :800, score : 254.8, n_buffer : 5000, eps : 0.0\n",
      "n_episode :820, score : 238.8, n_buffer : 5000, eps : 0.0\n",
      "n_episode :840, score : 176.6, n_buffer : 5000, eps : 0.0\n",
      "n_episode :860, score : 145.5, n_buffer : 5000, eps : 0.0\n",
      "n_episode :880, score : 238.8, n_buffer : 5000, eps : 0.0\n",
      "n_episode :900, score : 224.3, n_buffer : 5000, eps : 0.0\n",
      "n_episode :920, score : 215.2, n_buffer : 5000, eps : 0.0\n",
      "n_episode :940, score : 187.0, n_buffer : 5000, eps : 0.0\n",
      "n_episode :960, score : 199.4, n_buffer : 5000, eps : 0.0\n",
      "n_episode :980, score : 167.2, n_buffer : 5000, eps : 0.0\n"
     ]
    }
   ],
   "source": [
    "env=gym.make('CartPole-v1')\n",
    "q=Qnet()\n",
    "q_target=Qnet()\n",
    "q_target.load_state_dict(q.state_dict())\n",
    "memory=ReplayBuffer()\n",
    "\n",
    "print_interval=20\n",
    "score=0.0\n",
    "optimizer=optim.Adam(q.parameters(),lr=learning_rate)\n",
    "\n",
    "for n_epi in range(1000):\n",
    "    epsilon=max(0.01,0.08-0.01*(n_epi/20))\n",
    "    s=env.reset()\n",
    "    done=False\n",
    "    while not done:\n",
    "        a=q.sample_action(torch.from_numpy(s).float(),epsilon)\n",
    "        s_prime,r,done,info = env.step(a)\n",
    "        done_mask=0.0 if done else 1.0\n",
    "        memory.put((s,a,r/100.0,s_prime,done_mask))\n",
    "        s=s_prime\n",
    "        score+=r\n",
    "        if done:\n",
    "            break\n",
    "    if memory.size()>200:\n",
    "        train(q,q_target,memory,optimizer)\n",
    "    if n_epi%print_interval==0 and n_epi!=0:\n",
    "        q_target.load_state_dict(q.state_dict())\n",
    "        print(\"n_episode :{}, score : {:.1f}, n_buffer : {}, eps : {:.1f}\".format(\n",
    "                                                            n_epi, score/print_interval, memory.size(), epsilon))\n",
    "        score =0.0\n",
    "env.close()"
   ]
  },
  {
   "cell_type": "code",
   "execution_count": null,
   "metadata": {},
   "outputs": [],
   "source": []
  }
 ],
 "metadata": {
  "kernelspec": {
   "display_name": "Python 3",
   "language": "python",
   "name": "python3"
  },
  "language_info": {
   "codemirror_mode": {
    "name": "ipython",
    "version": 3
   },
   "file_extension": ".py",
   "mimetype": "text/x-python",
   "name": "python",
   "nbconvert_exporter": "python",
   "pygments_lexer": "ipython3",
   "version": "3.7.4"
  }
 },
 "nbformat": 4,
 "nbformat_minor": 4
}
