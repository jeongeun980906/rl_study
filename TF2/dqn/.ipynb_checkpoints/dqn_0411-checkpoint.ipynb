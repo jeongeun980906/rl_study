{
 "cells": [
  {
   "cell_type": "code",
   "execution_count": 1,
   "metadata": {},
   "outputs": [
    {
     "name": "stderr",
     "output_type": "stream",
     "text": [
      "Using TensorFlow backend.\n"
     ]
    }
   ],
   "source": [
    "import sys\n",
    "import gym\n",
    "import pylab\n",
    "import random\n",
    "import numpy as np\n",
    "from collections import deque\n",
    "from keras.layers import Dense\n",
    "from keras.optimizers import Adam\n",
    "from keras.models import Sequential"
   ]
  },
  {
   "cell_type": "code",
   "execution_count": null,
   "metadata": {},
   "outputs": [],
   "source": [
    "class DQNAgent:\n",
    "    def __init__(self,state_size,action_size):\n",
    "        self.action_size=action_size\n",
    "        self.state_size=state_size\n",
    "        \n",
    "        self.discount_factor=0.99\n",
    "        self.learning_rate=0.001\n",
    "        self.epsilon=1.0\n",
    "        self.epsilon_decay=0.999\n",
    "        self.epsilon_min=0.01\n",
    "        self.batch_size=64\n",
    "        self.train_start=1000\n",
    "        \n",
    "        self.memory=deque(maxlen=2000)\n",
    "        self.model=self.build_model()\n",
    "        self.target_model=self.build_model()\n",
    "        \n",
    "        self.update_target_model()\n",
    "        \n",
    "    def build_model(self):\n",
    "        model=Sequential()\n",
    "        model.add(Dense(32,input_dim=self.state_size,activation='relu',\n",
    "                       kernel_initializer='he_uniform'))\n",
    "        model.add(Dense(32,activation='relu',\n",
    "                       kernel_initializer='he_uniform'))\n",
    "        model.add(Dense(self.action_size,activation='linear',\n",
    "                       kernel_initializer='he_uniform'))\n",
    "        model.compile(loss='mse',optimizer=Adam(lr=self.learning_rate))\n",
    "        return model\n",
    "    \n",
    "    def update_target_model(self):\n",
    "        self.target_model.set_weights(self.model.get_weights())\n",
    "    \n",
    "    def get_action(self,state):\n",
    "        if np.random.rand()<=self.epsilon:\n",
    "            return random.randrange(self.action_size)\n",
    "        else:\n",
    "            q_value=model.predict(state)\n",
    "            return np.argmax(q_value)\n",
    "    \n",
    "    def append_sample(self,state,action,reward,next_state,done):\n",
    "        self.memory.append((state,action,reward,next_state,done))\n",
    "        \n",
    "    def train_model(self):\n",
    "        if self.epsilon>self.epsilon_min:\n",
    "            self.epsilon *= self.epsilon_decay\n",
    "        \n",
    "        "
   ]
  }
 ],
 "metadata": {
  "kernelspec": {
   "display_name": "Python 3",
   "language": "python",
   "name": "python3"
  },
  "language_info": {
   "codemirror_mode": {
    "name": "ipython",
    "version": 3
   },
   "file_extension": ".py",
   "mimetype": "text/x-python",
   "name": "python",
   "nbconvert_exporter": "python",
   "pygments_lexer": "ipython3",
   "version": "3.7.4"
  }
 },
 "nbformat": 4,
 "nbformat_minor": 4
}
