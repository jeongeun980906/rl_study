{
 "cells": [
  {
   "cell_type": "code",
   "execution_count": 9,
   "metadata": {},
   "outputs": [],
   "source": [
    "from environment_pi import GraphicDisplay, Env\n",
    "import matplotlib.pyplot as plt\n",
    "import random"
   ]
  },
  {
   "cell_type": "code",
   "execution_count": 16,
   "metadata": {},
   "outputs": [],
   "source": [
    "class PolicyIteration:\n",
    "    def __init__(self,env):\n",
    "        self.env=env\n",
    "        #valuefunction initallization\n",
    "        self.value_table=[[0.0]*env.width for _ in range(env.height)]\n",
    "        #확률 정책 초기화\n",
    "        self.policy_table=[[0.25,0.25,0.25,0.25]*env.width\n",
    "                          for _ in range(env.height)]\n",
    "        self.policy_table[2][2]=[]\n",
    "        self.discount_factor=0.9\n",
    "    \n",
    "    def get_policy(self,state):\n",
    "        if state==[2,2]:\n",
    "            return 0.0\n",
    "        return self.policy_table[state[0]][state[1]]\n",
    "    \n",
    "    def get_value(self,state):\n",
    "        return round(self.value_table[state[0]][state[1]],2)\n",
    "    \n",
    "    def get_action(self,state):\n",
    "        random_pick=random.randrange(100)/100\n",
    "        policy=self.get_policy(state)\n",
    "        policy_sum=0.0\n",
    "        for index,value in enumerate(policy):\n",
    "            policy_sum+=value\n",
    "            if random_pick<policy_sum:\n",
    "                return index\n",
    "    \n",
    "    #정책 평가\n",
    "    def policy_evaluation(self):\n",
    "        next_value_table=[[0.00]*self.env.width \n",
    "                         for _ in range(self.env.height)]\n",
    "        for state in self.env.get_all_states():\n",
    "            value=0.0\n",
    "            if state==[2,2]:\n",
    "                next_value_table[state[0]][state[1]]=value\n",
    "                continue\n",
    "            #벨만 기대 방정식\n",
    "            for action in self.env.possible_actions:\n",
    "                #벨만 기대 방정식 풀기 코드 작성.\n",
    "                next_state=self.env.state_after_action(state,action)\n",
    "                reward=self.env.get_reward(state,action)\n",
    "                next_value=self.get_value(next_state)\n",
    "                value+=self.get_policy(state)[action]*(reward+self.discount_factor*next_value)\n",
    "                \n",
    "            next_value_table[state[0]][state[1]]=round(value,2)\n",
    "        self.value_table=next_value_table\n",
    "        \n",
    "    def policy_improvement(self):\n",
    "        next_policy=self.policy_table\n",
    "        for state in self.env.get_all_states():\n",
    "            if state==[2,2]:\n",
    "                continue\n",
    "            value=-999\n",
    "            max_index=[]\n",
    "            result=[0.0,0.0,0.0,0.0]\n",
    "            for index,action in enumerate(self.env.possible_actions):\n",
    "                #Q함수 작성\n",
    "                next_state=self.env.state_after_action(state,action)\n",
    "                reward=self.env.get_reward(state,action)\n",
    "                next_value=self.get_value(next_state)\n",
    "                temp=reward+self.discount_factor*next_value\n",
    "                #최대 선택하는 알고리즘 작성\n",
    "                if temp==value:\n",
    "                    max_index.append(index)\n",
    "                elif temp>value:\n",
    "                    max_index.clear()\n",
    "                    max_index.append(index)\n",
    "                    value=temp\n",
    "                    \n",
    "            #확률?        \n",
    "            prob=1/len(max_index) \n",
    "            for index in max_index:\n",
    "                result[index]=prob\n",
    "            next_policy[state[0]][state[1]]=result\n",
    "        self.policy_table=next_policy"
   ]
  },
  {
   "cell_type": "code",
   "execution_count": 17,
   "metadata": {},
   "outputs": [
    {
     "name": "stderr",
     "output_type": "stream",
     "text": [
      "Exception in Tkinter callback\n",
      "Traceback (most recent call last):\n",
      "  File \"D:\\anaconda\\lib\\tkinter\\__init__.py\", line 1705, in __call__\n",
      "    return self.func(*args)\n",
      "  File \"C:\\Users\\박정은\\OneDrive - 고려대학교\\삽질\\RL_practice\\environment_pi.py\", line 196, in evaluate_policy\n",
      "    self.agent.policy_evaluation()\n",
      "  File \"<ipython-input-16-2d94557decc8>\", line 44, in policy_evaluation\n",
      "    value+=self.get_policy(state)[action]*(reward+self.discount_factor*next_value)\n",
      "TypeError: 'float' object is not subscriptable\n"
     ]
    }
   ],
   "source": [
    "env=Env()\n",
    "policy_itertation=PolicyIteration(env)\n",
    "grid_world=GraphicDisplay(policy_itertation)\n",
    "grid_world.mainloop()"
   ]
  },
  {
   "cell_type": "code",
   "execution_count": null,
   "metadata": {},
   "outputs": [],
   "source": []
  }
 ],
 "metadata": {
  "kernelspec": {
   "display_name": "Python 3",
   "language": "python",
   "name": "python3"
  },
  "language_info": {
   "codemirror_mode": {
    "name": "ipython",
    "version": 3
   },
   "file_extension": ".py",
   "mimetype": "text/x-python",
   "name": "python",
   "nbconvert_exporter": "python",
   "pygments_lexer": "ipython3",
   "version": "3.7.4"
  }
 },
 "nbformat": 4,
 "nbformat_minor": 2
}
