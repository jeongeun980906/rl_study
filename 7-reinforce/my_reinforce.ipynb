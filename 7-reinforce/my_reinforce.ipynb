{
 "cells": [
  {
   "cell_type": "code",
   "execution_count": 1,
   "metadata": {},
   "outputs": [],
   "source": [
    "import numpy as np\n",
    "import gym\n",
    "import tensorflow as tf \n",
    "import matplotlib.pyplot as plt"
   ]
  },
  {
   "cell_type": "code",
   "execution_count": 2,
   "metadata": {},
   "outputs": [],
   "source": [
    "model=tf.keras.Sequential()\n",
    "model.add(tf.keras.layers.Dense(32,input_dim=4,activation='relu'))\n",
    "model.add(tf.keras.layers.Dense(2,activation='softmax'))\n",
    "model.build()\n",
    "optimizer=tf.keras.optimizers.Adam(lr=0.01)\n",
    "compute_loss=tf.keras.losses.SparseCategoricalCrossentropy(from_logits=True)\n"
   ]
  },
  {
   "cell_type": "code",
   "execution_count": 3,
   "metadata": {},
   "outputs": [],
   "source": [
    "def discount_rewards(r,gamma=0.8):\n",
    "    discounted_r=np.zeros_like(r)\n",
    "    running_add=0\n",
    "    for t in reversed(range(0,r.size)):\n",
    "        running_add=running_add*gamma+r[t]\n",
    "        discounted_r[t]=running_add\n",
    "    return discounted_r"
   ]
  },
  {
   "cell_type": "code",
   "execution_count": null,
   "metadata": {
    "scrolled": true
   },
   "outputs": [
    {
     "name": "stderr",
     "output_type": "stream",
     "text": [
      "c:\\users\\박정은\\gym\\gym\\logger.py:30: UserWarning: \u001b[33mWARN: Box bound precision lowered by casting to float32\u001b[0m\n",
      "  warnings.warn(colorize('%s: %s'%('WARN', msg % args), 'yellow'))\n"
     ]
    },
    {
     "name": "stdout",
     "output_type": "stream",
     "text": [
      "WARNING:tensorflow:Layer dense is casting an input tensor from dtype float64 to the layer's dtype of float32, which is new behavior in TensorFlow 2.  The layer has dtype float32 because it's dtype defaults to floatx.\n",
      "\n",
      "If you intended to run this layer in float32, you can safely ignore this warning. If in doubt, this warning is likely only an issue if you are porting a TensorFlow 1.X model to TensorFlow 2.\n",
      "\n",
      "To change all layers to have dtype float64 by default, call `tf.keras.backend.set_floatx('float64')`. To change just this layer, pass dtype='float64' to the layer constructor. If you are the author of this layer, you can disable autocasting by passing autocast=False to the base Layer constructor.\n",
      "\n",
      "Episode  0  Score  34.0\n"
     ]
    }
   ],
   "source": [
    "env=gym.make('CartPole-v0')\n",
    "episodes=2000\n",
    "scores=[]\n",
    "update_every=5\n",
    "\n",
    "gradBuffer=model.trainable_variables\n",
    "for ix,grad in enumerate(gradBuffer):\n",
    "    gradBuffer[ix]=grad*0\n",
    "for e in range(episodes):\n",
    "    state=env.reset()\n",
    "    ep_memory=[]\n",
    "    ep_score=0\n",
    "    done=False\n",
    "    while not done:\n",
    "        state=state.reshape([1,4])\n",
    "        env.render()\n",
    "        with tf.GradientTape() as tape:\n",
    "            logits=model(state)\n",
    "            action_dist=logits.numpy()\n",
    "            action=np.random.choice(action_dist[0],p=action_dist[0])\n",
    "            action=np.argmax(action_dist==action)\n",
    "            loss=compute_loss([action],logits)\n",
    "        state,reward,done,_=env.step(action)\n",
    "        ep_score+=reward\n",
    "        if done:reward-=10\n",
    "        grads=tape.gradient(loss,model.trainable_variables)\n",
    "        ep_memory.append([grads,reward])\n",
    "    scores.append(ep_score)\n",
    "    \n",
    "    ep_memory=np.array(ep_memory)\n",
    "    ep_memory[:,1]=discount_rewards(ep_memory[:,1])\n",
    "    \n",
    "    for grads,reward in ep_memory:\n",
    "        for ix,grad in enumerate(grads):\n",
    "            gradBuffer[ix]+=grad*reward\n",
    "    if e% update_every==0:\n",
    "        optimizer.apply_gradients(zip(gradBuffer,model.trainable_variables))\n",
    "        for ix,grad in enumerate(gradBuffer):\n",
    "            gradBuffer[ix]=grad*0\n",
    "    if e%100==0:\n",
    "        print(\"Episode  {}  Score  {}\".format(e, np.mean(scores[-100:])))"
   ]
  },
  {
   "cell_type": "code",
   "execution_count": null,
   "metadata": {},
   "outputs": [],
   "source": []
  }
 ],
 "metadata": {
  "kernelspec": {
   "display_name": "Python 3",
   "language": "python",
   "name": "python3"
  },
  "language_info": {
   "codemirror_mode": {
    "name": "ipython",
    "version": 3
   },
   "file_extension": ".py",
   "mimetype": "text/x-python",
   "name": "python",
   "nbconvert_exporter": "python",
   "pygments_lexer": "ipython3",
   "version": "3.7.4"
  }
 },
 "nbformat": 4,
 "nbformat_minor": 2
}
